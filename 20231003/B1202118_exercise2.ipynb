{
  "nbformat": 4,
  "nbformat_minor": 0,
  "metadata": {
    "colab": {
      "provenance": []
    },
    "kernelspec": {
      "name": "python3",
      "display_name": "Python 3"
    },
    "language_info": {
      "name": "python"
    }
  },
  "cells": [
    {
      "cell_type": "code",
      "execution_count": null,
      "metadata": {
        "colab": {
          "base_uri": "https://localhost:8080/"
        },
        "id": "NLKjY4UwcwAw",
        "outputId": "62981047-c245-4021-a9df-785398988a0a"
      },
      "outputs": [
        {
          "output_type": "stream",
          "name": "stdout",
          "text": [
            "A\n",
            "['K', 'H', 'U']\n"
          ]
        }
      ],
      "source": [
        "a='C,B,A'\n",
        "b=['F','G','H']\n",
        "a=a.split(',')\n",
        "c=a+b\n",
        "c[0]='K'\n",
        "print(c.pop(2))\n",
        "del c[1:4]\n",
        "c.append('U')\n",
        "print(c)\n"
      ]
    },
    {
      "cell_type": "code",
      "source": [
        "h, w = float(input(\"請輸入身高(公尺)\")), float(input(\"請輸入體重(公斤)\"))\n",
        "h *= h\n",
        "bmi = w/h\n",
        "print('BMI:',bmi)\n",
        "\n",
        "if bmi<18.5:\n",
        "  print('體位:過輕')\n",
        "elif bmi<24:\n",
        "  print('體位:適中')\n",
        "elif bmi<27:\n",
        "  print('體位:過重')\n",
        "else:\n",
        "  print('體位:肥胖')"
      ],
      "metadata": {
        "colab": {
          "base_uri": "https://localhost:8080/"
        },
        "id": "tNHUAdcDl4Nu",
        "outputId": "05ea0f5a-3f4e-4674-aae4-306da44df3dd"
      },
      "execution_count": null,
      "outputs": [
        {
          "output_type": "stream",
          "name": "stdout",
          "text": [
            "請輸入身高(公尺)1.68\n",
            "請輸入體重(公斤)54\n",
            "BMI: 19.13265306122449\n",
            "體位:適中\n"
          ]
        }
      ]
    }
  ]
}