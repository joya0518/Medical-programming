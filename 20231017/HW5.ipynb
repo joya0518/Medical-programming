{
  "nbformat": 4,
  "nbformat_minor": 0,
  "metadata": {
    "colab": {
      "provenance": []
    },
    "kernelspec": {
      "name": "python3",
      "display_name": "Python 3"
    },
    "language_info": {
      "name": "python"
    }
  },
  "cells": [
    {
      "cell_type": "code",
      "execution_count": 1,
      "metadata": {
        "colab": {
          "base_uri": "https://localhost:8080/"
        },
        "id": "Gus82hV8nUpK",
        "outputId": "22db6b27-7009-48af-fee7-1406c815bab7"
      },
      "outputs": [
        {
          "output_type": "stream",
          "name": "stdout",
          "text": [
            "        *\n",
            "       ***\n",
            "      *****\n",
            "     *******\n",
            "    *********\n",
            "   ***********\n",
            "  *************\n",
            " ***************\n",
            "*****************\n",
            "       ***\n",
            "       ***\n",
            "       ***\n",
            "       ***\n",
            "       ***\n"
          ]
        }
      ],
      "source": [
        "for i in range(1,10):\n",
        "  for k in range(1,10-i):\n",
        "    print(' ',end='')\n",
        "  for j in range(1,2*i):\n",
        "    print('*',end='')\n",
        "  print('')\n",
        "for a in range(1,6):\n",
        "  for b in range(1,8):\n",
        "    print(' ',end='')\n",
        "  for c in range(1,4):\n",
        "    print('*',end='')\n",
        "  print('')"
      ]
    },
    {
      "cell_type": "code",
      "source": [
        "import random\n",
        "ans=random.sample(range(1,10),4)\n",
        "print('答案:',ans)\n",
        "a=0\n",
        "b=0\n",
        "t=0\n",
        "while a<4:\n",
        "  a=0\n",
        "  b=0\n",
        "  t+=1\n",
        "  n=input('輸入四個數字(不會重複)')\n",
        "  while(len(n)>4):\n",
        "    n=input('輸入數字過多，請輸入四個數字(不會重複)')\n",
        "  for i in range(0,4):\n",
        "    for j in range(0,4):\n",
        "      if int(n[i])==int(ans[j]):\n",
        "        if i==j:\n",
        "          a+=1\n",
        "        else:\n",
        "          b+=1\n",
        "  print(f'{n}:{a}A{b}B')\n",
        "print(f'答對了!總共猜了{t}次')"
      ],
      "metadata": {
        "colab": {
          "base_uri": "https://localhost:8080/"
        },
        "id": "u7oN-xBmv1hG",
        "outputId": "64993172-30d2-4c44-d4a5-40614a5a1dba"
      },
      "execution_count": 2,
      "outputs": [
        {
          "output_type": "stream",
          "name": "stdout",
          "text": [
            "答案: [9, 1, 4, 8]\n",
            "輸入四個數字(不會重複)12345\n",
            "輸入數字過多，請輸入四個數字(不會重複)2451\n",
            "2451:0A2B\n",
            "輸入四個數字(不會重複)1345\n",
            "1345:1A1B\n",
            "輸入四個數字(不會重複)7145\n",
            "7145:2A0B\n",
            "輸入四個數字(不會重複)9146\n",
            "9146:3A0B\n",
            "輸入四個數字(不會重複)9148\n",
            "9148:4A0B\n",
            "答對了!總共猜了5次\n"
          ]
        }
      ]
    }
  ]
}